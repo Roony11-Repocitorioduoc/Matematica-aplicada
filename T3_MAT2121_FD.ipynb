{
 "cells": [
  {
   "cell_type": "markdown",
   "metadata": {},
   "source": [
    "# El enigma de la Flor Matakiterani: Desentrañando patrones matemáticos"
   ]
  },
  {
   "cell_type": "markdown",
   "metadata": {},
   "source": [
    "En una misteriosa y enigmática isla, florece una planta única en el mundo: la Flor Matakiterani. Esta flor, venerada por los isleños, es famosa por su belleza excepcional y su patrón único de crecimiento en el número de pétalos. Según las leyendas locales, la Flor Matakiterani posee propiedades mágicas y curativas. Los habitantes de la isla han observado que estas flores pueden producir desde un mínimo de $9$ pétalos y hasta un asombroso máximo de $1201$ pétalos por día. En este taller, exploraremos las propiedades matemáticas de esta flor. \n",
    "\n",
    "1. La Flor Matakiterani sigue una secuencia específica en el número de pétalos que la flor produce cada día. Después de años de observación, los isleños han descubierto que la cantidad de pétalos que la flor produce en el $n$-ésimo día sigue la fórmula: $F_{n} = 4n + 5$, dónde $n$ corresponde al número de días. Calcula cuántos pétalos producirá la Flor Matakiterani en el día $20$.\n",
    "1. ¿Cuántos días deben transcurrir para que la flor alcance su valor máximo de pétalos producidos?\n",
    "1. ¿Existe un día en que la flor Matakiterani produzca $850$ pétalos? Explique.\n",
    "1. Los isleños descubrieron otra flor cuyas propiedades parecen estar ligadas a otro tipo de secuencia. Durante los primeros $5$ días, esta flor crece de manera que el número de pétalos producidos en el $n$-ésimo día se duplica con respecto al día anterior. Si el primer día produce $6$ pétalos, construye la expresión algebraica $G_{n}$ que represente el número de pétalos producidos en el $n$-ésimo día e imprime ordenadamente la cantidad de pétalos producidos durante los primeros cinco días.\n",
    "1. Los isleños han notado que, luego de los primeros $5$ días, la magia de esta segunda flor pierde potencia, haciendo que el crecimiento sea más lento, modelado por la expresión: $$H_n = 7 \\cdot (n - 6)\\text{ para }n > 5.$$ Calcula el total de pétalos producidos por esta segunda flor al finalizar un mes de $30$ días, considerando que comienza a florecer el día $1$.\n"
   ]
  },
  {
   "cell_type": "code",
   "execution_count": 14,
   "metadata": {},
   "outputs": [
    {
     "name": "stdout",
     "output_type": "stream",
     "text": [
      "1. La flor en el día 20 tendra 85 petalos\n"
     ]
    }
   ],
   "source": [
    "def sucecionFlor(n):\n",
    "    return 4*n+5\n",
    "\n",
    "print(f\"1. La flor en el día 20 tendra {sucecionFlor(20)} petalos\")"
   ]
  },
  {
   "cell_type": "code",
   "execution_count": 15,
   "metadata": {},
   "outputs": [
    {
     "name": "stdout",
     "output_type": "stream",
     "text": [
      "2.\n",
      "La cantidad de días es: 299 días\n"
     ]
    }
   ],
   "source": [
    "def encontrarValor(valor):\n",
    "    n = 1\n",
    "    while True:\n",
    "        if (valor==(sucecionFlor(n))):\n",
    "            print(f\"La cantidad de días es: {n} días\")\n",
    "            break\n",
    "        elif (sucecionFlor(n)>valor):\n",
    "            print(f\"El valor no esta en la sucesión!\")\n",
    "        \n",
    "        n += 1\n",
    "\n",
    "print(f\"2.\")      \n",
    "encontrarValor(1201)"
   ]
  },
  {
   "cell_type": "code",
   "execution_count": 16,
   "metadata": {},
   "outputs": [
    {
     "name": "stdout",
     "output_type": "stream",
     "text": [
      "3. La ecuacion es 850 = 4n+5 -> 211.25 = cantidad de días \n",
      "Como este es un número decimal y los días son solo valores enteros 850 no pertenece a la sucesión\n"
     ]
    }
   ],
   "source": [
    "print(f\"3. La ecuacion es 850 = 4n+5 -> {(850-5)/4} = cantidad de días \\nComo este es un número decimal y los días son solo valores enteros 850 no pertenece a la sucesión\")"
   ]
  },
  {
   "cell_type": "code",
   "execution_count": 22,
   "metadata": {},
   "outputs": [
    {
     "name": "stdout",
     "output_type": "stream",
     "text": [
      "4. Gn = 6*2**(n-1) siendo la expresión algebraica\n",
      "\n",
      "Día: 1 - Cantidad de petalos: 6\n",
      "Día: 2 - Cantidad de petalos: 12\n",
      "Día: 3 - Cantidad de petalos: 24\n",
      "Día: 4 - Cantidad de petalos: 48\n",
      "Día: 5 - Cantidad de petalos: 96\n"
     ]
    }
   ],
   "source": [
    "print(f\"4. Gn = 6*2**(n-1) siendo la expresión algebraica\\n\")\n",
    "\n",
    "def sucecionG(n):\n",
    "    return 6*2**(n-1)\n",
    "\n",
    "for i in range(1, 6, 1):\n",
    "    print(f\"Día: {i} - Cantidad de petalos: {sucecionG(i)}\")"
   ]
  },
  {
   "cell_type": "code",
   "execution_count": 23,
   "metadata": {},
   "outputs": [
    {
     "name": "stdout",
     "output_type": "stream",
     "text": [
      "5. La cantidad de petalos de la segunda flor en 30 días es: 2286\n"
     ]
    }
   ],
   "source": [
    "def sucecionH(n):\n",
    "    return 7*(n-6)\n",
    "\n",
    "sum = 0\n",
    "\n",
    "for i in range(1, 31, 1):\n",
    "    if (i<6):\n",
    "        sum += sucecionG(i)\n",
    "    elif (i>=6):\n",
    "        sum += sucecionH(i)\n",
    "        \n",
    "print(f\"5. La cantidad de petalos de la segunda flor en 30 días es: {sum}\")"
   ]
  }
 ],
 "metadata": {
  "kernelspec": {
   "display_name": "Python 3",
   "language": "python",
   "name": "python3"
  },
  "language_info": {
   "codemirror_mode": {
    "name": "ipython",
    "version": 3
   },
   "file_extension": ".py",
   "mimetype": "text/x-python",
   "name": "python",
   "nbconvert_exporter": "python",
   "pygments_lexer": "ipython3",
   "version": "3.12.4"
  }
 },
 "nbformat": 4,
 "nbformat_minor": 2
}
