{
  "cells": [
    {
      "cell_type": "markdown",
      "metadata": {
        "id": "o9wSkphj4mrT"
      },
      "source": [
        "**Problema 1:**\n",
        "\n",
        "En sectores rurales es común ver estanques donde se almacena agua. Uno de estos estanques\n",
        "tiene un nivel de agua inicial de 150 cm. Debido a las condiciones\n",
        "climáticas el estanque tiene una pequeña grieta y la pérdida de agua ocasiona que el nivel del\n",
        "agua disminuya 0,5 cm por minuto:\n",
        "\n",
        "a) Determine la forma algebraica de la función que entrega el nivel de agua (en centímetros)\n",
        "a partir del tiempo transcurrido (en minutos).\n",
        "\n",
        "b) ¿Cuánto tiempo debe transcurrir para que el nivel del agua descienda a la mitad del nivel\n",
        "inicial?\n",
        "\n",
        "c) ¿Cuánto tiempo tardará el depósito en quedar vacío?\n",
        "\n",
        "d)¿Cuál es el dominio de la función?"
      ]
    },
    {
      "cell_type": "code",
      "execution_count": 2,
      "metadata": {},
      "outputs": [
        {
          "name": "stdout",
          "output_type": "stream",
          "text": [
            "300.0\n"
          ]
        }
      ],
      "source": [
        "#este codigo sirve para calcular preimagen\n",
        "import numpy as np\n",
        "from scipy.optimize import fsolve\n",
        "def nivel_agua(x):  #Se define primero la funcion\n",
        "    return 150-0.5*x-0 # Se pasa restando el valor solicitado  # en la letra c se cambia el 75 y el que pasa a restar es el 0---> nivel del agua\n",
        "x=np.linspace(0,1000,1)\n",
        "sol=fsolve(nivel_agua, x)\n",
        "print(f'{sol[0]}')"
      ]
    },
    {
      "cell_type": "markdown",
      "metadata": {
        "id": "KiFXAqGadxM3"
      },
      "source": [
        "**Problema 2:**\n",
        "\n",
        "\n",
        "En nuestro país, la electromovilidad ha evolucionado bastante en el último tiempo. La venta\n",
        "de autos eléctricos ha ido aumentando año a año y se han instalado varios puntos de carga\n",
        "repartidos de norte a sur. la función que relaciona\n",
        "el tiempo transcurrido (en minutos) y el nivel de carga de la batería (en porcentaje) de un auto\n",
        "eléctrico conectado en un punto de carga viene dada por $f(x)=\\frac{log(x+1.1)}{log(1.04)} +3$\n",
        "\n",
        "a) Defina variables dependiente e independiente\\\n",
        "b) ¿Cuál era el porcentaje de la batería cuando fue conectado en el punto de carga?\\\n",
        "c) ¿Cuánto tiempo aproximadamente debe estar conectado, para alcanzar un 50% de\n",
        "carga?\\\n",
        "d) ¿Cuál será el porcentaje de carga de la batería, si el auto ha estado conectado durante\n",
        "media hora?\\\n",
        "e) ¿Cuál es el dominio y recorrido de la función presentada?\\\n",
        "f) ¿Es necesario definir un dominio contextualizado en este caso?"
      ]
    },
    {
      "cell_type": "code",
      "execution_count": 26,
      "metadata": {},
      "outputs": [
        {
          "name": "stdout",
          "output_type": "stream",
          "text": [
            "el nivel de la bateria al concetarse es de 5.4%\n"
          ]
        }
      ],
      "source": [
        "def nivel_carga(x):\n",
        "    y=(np.log(x+1.1)/np.log(1.04))+3\n",
        "    return y\n",
        "print(f'el nivel de la bateria al concetarse es de {round(nivel_carga(0),1)}%')"
      ]
    },
    {
      "cell_type": "code",
      "execution_count": 17,
      "metadata": {},
      "outputs": [
        {
          "name": "stdout",
          "output_type": "stream",
          "text": [
            "para que el nivel de carga sea del 50% deben pasar 5.2178156170686245 minutos\n"
          ]
        }
      ],
      "source": [
        "\n",
        "import numpy as np\n",
        "from scipy.optimize import fsolve\n",
        "def tiempo(x):  #Se define primero la funcion\n",
        "    return (np.log(x+1.1)/np.log(1.04))+3-50 # Se pasa restando el valor solicitado  # en la letra c se cambia el 75 y el que pasa a restar es el 0---> nivel del agua\n",
        "x=np.linspace(0,1000,1)\n",
        "sol=fsolve(tiempo, x)\n",
        "print(f'para que el nivel de carga sea del 50% deben pasar {sol[0]} minutos')"
      ]
    },
    {
      "cell_type": "code",
      "execution_count": 25,
      "metadata": {},
      "outputs": [
        {
          "name": "stdout",
          "output_type": "stream",
          "text": [
            "el nivel de la bateria al concetarse es de 90.6%\n"
          ]
        }
      ],
      "source": [
        "def nivel_carga(x):\n",
        "    y=(np.log(x+1.1)/np.log(1.04))+3\n",
        "    return y\n",
        "print(f'el nivel de la bateria al concetarse es de {round(nivel_carga(30),1)}%')"
      ]
    },
    {
      "cell_type": "markdown",
      "metadata": {
        "id": "CYC7Ef8WklyQ"
      },
      "source": [
        "**Problema 3:**\n",
        "\n",
        "Se ha encontrado que el nivel de alivio (en puntos) que una aspirina proporciona es igual a\n",
        "cuatro veces el número de horas transcurridas desde que se tomó el medicamento menos el\n",
        "cuadrado de dicha cantidad de horas.\\\n",
        "\n",
        "a) A partir del enunciado, determine la expresión algebraica de la función que relaciona\n",
        "la cantidad de horas transcurridas y el nivel de alivio que proporciona el\n",
        "medicamento.\\\n",
        "b)¿Es correcto afirmar que a medida que transcurre el tiempo, el nivel de alivio que\n",
        "proporciona el medicamento aumenta?\\\n",
        "c) ¿Cuánto tiempo debe transcurrir para que la aspirina “pierda” su efecto? Argumente.\\\n",
        "d) Estime ¿Cuál es el nivel máximo que puede alcanzarse al consumir una aspirina? ¿Cuánto\n",
        "tiempo debe transcurrir para alcanzarlo?"
      ]
    },
    {
      "cell_type": "markdown",
      "metadata": {
        "id": "sJOmO27zlKUY"
      },
      "source": [
        "**Problema 4:**\n",
        "\n",
        "Una empresa dedicada a la venta de artículos de construcción tiene en bodega 1240 unidades\n",
        "de un determinado producto. Por un problema de reparto, el proveedor informó a la empresa\n",
        "que no podrá despachar unidades del producto en por lo menos en 45 días. Si la empresa\n",
        "recibe diariamente pedidos de 64 unidades por parte de sus clientes:\n",
        "\n",
        "a) ¿Cuántas unidades del producto quedarán en bodega transcurridos 2 días? ¿y\n",
        "transcurridos 6 días?\n",
        "\n",
        "b) Identifique la variable independiente y la dependiente. (debe indicar entre paréntesis su unidad de medida).\n",
        "\n",
        "c) A partir de su respuesta en el ejercicio anterior, determine la expresión algebraica de\n",
        "una función que permita calcular la cantidad de unidades del producto que quedan\n",
        "en bodega, en función de los días transcurridos.\n",
        "\n",
        "d) Determina el dominio contextualizado y marca en el gráfico el tramo de la función\n",
        "que corresponda.\n",
        "\n",
        "e) ¿Podrá la empresa cubrir todos los pedidos diarios hasta que su proveedor pueda\n",
        "abastecerlos nuevamente?"
      ]
    }
  ],
  "metadata": {
    "colab": {
      "provenance": []
    },
    "kernelspec": {
      "display_name": "Python 3",
      "name": "python3"
    },
    "language_info": {
      "codemirror_mode": {
        "name": "ipython",
        "version": 3
      },
      "file_extension": ".py",
      "mimetype": "text/x-python",
      "name": "python",
      "nbconvert_exporter": "python",
      "pygments_lexer": "ipython3",
      "version": "3.12.4"
    }
  },
  "nbformat": 4,
  "nbformat_minor": 0
}
